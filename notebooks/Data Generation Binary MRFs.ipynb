{
 "cells": [
  {
   "cell_type": "code",
   "execution_count": null,
   "metadata": {},
   "outputs": [],
   "source": [
    "import sys\n",
    "import numpy as np\n",
    "import matplotlib.pyplot as plt\n",
    "import pandas as pd\n",
    "import scipy.io as sio\n",
    "import networkx as nx"
   ]
  },
  {
   "cell_type": "code",
   "execution_count": null,
   "metadata": {},
   "outputs": [],
   "source": [
    "# Generate all 2^n binary strings\n",
    "def generate_strings(n):\n",
    "    if n == 1:\n",
    "        return [\"0\", \"1\"]\n",
    "    ret = []\n",
    "    all_smaller_strings = generate_strings(n-1)\n",
    "    ret.extend([\"0\" + s for s in all_smaller_strings])\n",
    "    ret.extend([\"1\" + s for s in all_smaller_strings])\n",
    "    return ret\n",
    "\n",
    "# Convert string to vector\n",
    "def get_vector_from_string(s):\n",
    "    ret = []\n",
    "    for digit in s:\n",
    "        if digit == \"0\":\n",
    "            ret.append(-1)\n",
    "        else:\n",
    "            ret.append(1)\n",
    "    return np.array(ret)\n",
    "\n",
    "# Get ground truth logZ and mode\n",
    "def ground_truth(A, h, all_strings):\n",
    "    ret = 0\n",
    "    n = len(A)\n",
    "    mx = float(\"-inf\")\n",
    "    xTAx_plus_hx_list = []\n",
    "    for s in all_strings:\n",
    "        x = get_vector_from_string(s)\n",
    "        xTAx = (x.T @ A @ x) / 2\n",
    "        hx = h.T @ x\n",
    "        xTAx_plus_hx = xTAx + hx\n",
    "        mx = max(mx, xTAx_plus_hx)\n",
    "        xTAx_plus_hx_list.append(xTAx_plus_hx)\n",
    "    xTAx_plus_hx_list = [elem - mx for elem in xTAx_plus_hx_list]\n",
    "    logZ = np.log(np.sum(np.exp(xTAx_plus_hx_list))) + mx\n",
    "    return logZ, mx"
   ]
  },
  {
   "cell_type": "code",
   "execution_count": null,
   "metadata": {},
   "outputs": [],
   "source": [
    "# Define MRF parameters\n",
    "cw_range = np.arange(0, 5.25, 0.25)\n",
    "cw_range[0] = 0.05\n",
    "cw_len = len(cw_range)\n",
    "num_samples = 100\n",
    "n = 20"
   ]
  },
  {
   "cell_type": "markdown",
   "metadata": {},
   "source": [
    "<h2> Complete graph data generation"
   ]
  },
  {
   "cell_type": "code",
   "execution_count": null,
   "metadata": {},
   "outputs": [],
   "source": [
    "coupling_data = np.zeros((n, n, len(cw_range), num_samples))\n",
    "bias_data = np.zeros((n, len(cw_range), num_samples))\n",
    "logZ_data = np.zeros((len(cw_range), num_samples))\n",
    "modes_data = np.zeros((len(cw_range), num_samples))\n",
    "all_strings = generate_strings(n)\n",
    "for i, cw in enumerate(cw_range):\n",
    "    for sample in range(num_samples):\n",
    "        print(i, sample)\n",
    "        A = np.random.uniform(low=-2*cw, high=2*cw, size=(n, n))\n",
    "        for row in range(n):\n",
    "            for col in range(n):\n",
    "                if row == col:\n",
    "                    A[row, col] = 0\n",
    "                else:\n",
    "                    A[row, col] = A[col, row]\n",
    "        h = np.random.uniform(low=-1, high=1, size=(n))\n",
    "        logZ, mode = ground_truth(A, h, all_strings)\n",
    "        coupling_data[:, :, i, sample] = A\n",
    "        bias_data[:, i, sample] = h\n",
    "        logZ_data[i, sample] = logZ\n",
    "        modes_data[i, sample] = mode"
   ]
  },
  {
   "cell_type": "markdown",
   "metadata": {},
   "source": [
    "<h2> ER graph data generation"
   ]
  },
  {
   "cell_type": "code",
   "execution_count": null,
   "metadata": {},
   "outputs": [],
   "source": [
    "p = 0.5\n",
    "coupling_data = np.zeros((n, n, cw_len, num_samples))\n",
    "bias_data = np.zeros((n, cw_len, num_samples))\n",
    "logZ_data = np.zeros((cw_len, num_samples))\n",
    "modes_data = np.zeros((cw_len, num_samples))\n",
    "all_strings = generate_strings(n)\n",
    "for i, cw in enumerate(cw_range):\n",
    "    t = 2 * cw / p\n",
    "    for sample in range(num_samples):\n",
    "        print(i, sample)\n",
    "        G = nx.erdos_renyi_graph(n, p)\n",
    "        A = np.zeros((n, n))\n",
    "        for edge in G.edges:\n",
    "            u, v = edge\n",
    "            value = np.random.uniform(low=-t, high=t)\n",
    "            A[u, v] = value\n",
    "            A[v, u] = value\n",
    "        h = np.random.uniform(low=-1, high=1, size=(n))\n",
    "        logZ, mode = ground_truth(A, h, all_strings)\n",
    "        coupling_data[:, :, i, sample] = A\n",
    "        bias_data[:, i, sample] = h\n",
    "        logZ_data[i, sample] = logZ\n",
    "        modes_data[i, sample] = mode"
   ]
  }
 ],
 "metadata": {
  "kernelspec": {
   "display_name": "Python 3",
   "language": "python",
   "name": "python3"
  },
  "language_info": {
   "codemirror_mode": {
    "name": "ipython",
    "version": 3
   },
   "file_extension": ".py",
   "mimetype": "text/x-python",
   "name": "python",
   "nbconvert_exporter": "python",
   "pygments_lexer": "ipython3",
   "version": "3.6.4"
  }
 },
 "nbformat": 4,
 "nbformat_minor": 2
}
