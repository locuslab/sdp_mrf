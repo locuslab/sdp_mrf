{
 "cells": [
  {
   "cell_type": "code",
   "execution_count": 2,
   "metadata": {},
   "outputs": [],
   "source": [
    "import sys\n",
    "sys.path.insert(0, \"../spectral_approximate_inference\")\n",
    "sys.path.insert(0, \"../\")\n",
    "import numpy as np\n",
    "import matplotlib.pyplot as plt\n",
    "from read_mat import ReadMat\n",
    "import pandas as pd\n",
    "import time\n",
    "import scipy.io as sio\n",
    "import math\n",
    "import sdp_mrf\n",
    "from sdp_mrf.models import PottsModel"
   ]
  },
  {
   "cell_type": "code",
   "execution_count": 3,
   "metadata": {},
   "outputs": [],
   "source": [
    "sys.path.insert(0, \"../spectral_approximate_inference/gm\")\n",
    "sys.path.insert(0, \"../spectral_approximate_inference/inference\")\n",
    "from gm import *\n",
    "from factor import *\n",
    "from ising_model import *\n",
    "from rank1_ising import Rank1Ising\n",
    "import scipy.io as sio"
   ]
  },
  {
   "cell_type": "markdown",
   "metadata": {},
   "source": [
    "<h2> Geometric method by Wang et al. ICLR 2014"
   ]
  },
  {
   "cell_type": "code",
   "execution_count": 4,
   "metadata": {},
   "outputs": [],
   "source": [
    "def compute_logZ_sdp_iclr(A, h, rounding_iters=10000):\n",
    "    # Convert vector to string\n",
    "    def get_string_from_vector(v):\n",
    "        ret = \"\"\n",
    "        for digit in v:\n",
    "            if digit == -1:\n",
    "                ret += \"0\"\n",
    "            else:\n",
    "                ret += \"1\"\n",
    "        return ret\n",
    "    \n",
    "    # Sample n vectors uniformly on unit sphere\n",
    "    def sample_unit_sphere(d, n):\n",
    "        ret = np.random.normal(0, 1, size=(d, n))\n",
    "        ret = ret / np.linalg.norm(ret, axis=0, keepdims=True)\n",
    "        return ret\n",
    "\n",
    "    def get_angle(cos_theta):\n",
    "        assert -1 <= cos_theta\n",
    "        assert cos_theta <= 1\n",
    "        return math.acos(cos_theta)\n",
    "    \n",
    "    def get_perp_vector(v):\n",
    "        return np.array((-v[1], v[0]))\n",
    "    \n",
    "    # Run the mixing method for optimization\n",
    "    def mixing_method(V, A, h, max_iters=100):\n",
    "        n = len(A)\n",
    "        d = V.shape[0]\n",
    "        for _ in range(max_iters):\n",
    "            for i in range(n):\n",
    "                accumulation = np.zeros(d)\n",
    "                accumulation[0] = h[i]\n",
    "                for j in range(n):\n",
    "                    accumulation = accumulation + A[i, j] * V[:, j]\n",
    "                accumulation = accumulation / np.linalg.norm(accumulation)\n",
    "                V[:, i] = accumulation\n",
    "        return V\n",
    "    \n",
    "    n = len(A)\n",
    "    d = 2\n",
    "    V = sample_unit_sphere(d, n)\n",
    "    \n",
    "    # Setting v_t = e_d\n",
    "    v_t = np.zeros(d)\n",
    "    v_t[-1] = 1\n",
    "    \n",
    "    # Perform mixing method on V\n",
    "    V = mixing_method(V, A, h)\n",
    "    \n",
    "    sdp_logZ = np.trace(A.T @ (V.T @ V)) / 2 + (h.T @ (V.T @ v_t)) # <A, V^TV> / 2 + <h, V^Tv_t>\n",
    "    \n",
    "    angles_list = [0, np.pi]\n",
    "    for i in range(V.shape[1]):\n",
    "        perp_vec = get_perp_vector(V[:, i])\n",
    "        if perp_vec[1] < 0:\n",
    "            perp_vec = -perp_vec\n",
    "        cos_theta = perp_vec.T @ np.array((1, 0))\n",
    "        angles_list.append(get_angle(cos_theta))\n",
    "    \n",
    "    angles_list = sorted(angles_list)\n",
    "    \n",
    "    p_v = {}\n",
    "    for i in range(len(angles_list) - 1):\n",
    "        angle = (angles_list[i] + angles_list[i+1]) / 2\n",
    "        r = np.array((np.cos(angle), np.sin(angle)))\n",
    "        rounded_v = np.array([np.sign((V[:, j].T @ r) * (v_t.T @ r)) for j in range(n)])\n",
    "        s = get_string_from_vector(rounded_v)\n",
    "        p_v[s] = (angles_list[i+1] - angles_list[i]) / np.pi # pi coz have to multiply prob by 2\n",
    "    \n",
    "    f_list = []\n",
    "    mx = -np.inf\n",
    "    for _ in range(rounding_iters):\n",
    "        r = sample_unit_sphere(d, 1)\n",
    "        r = np.reshape(r, -1)\n",
    "        x = np.array([np.sign((V[:, j].T @ r) * (v_t.T @ r)) for j in range(n)])\n",
    "        f = (x.T @ A @ x) / 2 + (h.T @ x)\n",
    "        s = get_string_from_vector(x)\n",
    "        assert s in p_v\n",
    "        f_list.append(f - np.log(p_v[s]))\n",
    "        mx = max(mx, f - np.log(p_v[s]))\n",
    "    \n",
    "    f_list = np.array(f_list)\n",
    "    f_list = f_list - mx\n",
    "    rounded_logZ = np.log(np.sum(np.exp(f_list)))\n",
    "    rounded_logZ += mx\n",
    "    rounded_logZ -= np.log(rounding_iters)\n",
    " \n",
    "    return sdp_logZ, rounded_logZ"
   ]
  },
  {
   "cell_type": "markdown",
   "metadata": {},
   "source": [
    "<h2> Binary ER graphs"
   ]
  },
  {
   "cell_type": "code",
   "execution_count": 5,
   "metadata": {},
   "outputs": [
    {
     "name": "stdout",
     "output_type": "stream",
     "text": [
      "(20, 20, 21, 100) (20, 21, 100) (21, 100)\n",
      "(21, 21, 21, 100) (21, 21, 21, 100)\n"
     ]
    }
   ],
   "source": [
    "mat = sio.loadmat('../data/ER_5_data.mat')\n",
    "coupling_data = mat['coupling']\n",
    "bias_data = mat['bias']\n",
    "logZ_data = mat['logZ']\n",
    "print(coupling_data.shape, bias_data.shape, logZ_data.shape)\n",
    "n = coupling_data.shape[0]\n",
    "cw_len = coupling_data.shape[-2]\n",
    "num_samples = coupling_data.shape[-1]\n",
    "\n",
    "# Required to run Park et al; refer to spectral_approximate_inference/matlab_code/check.m\n",
    "# on how to compute these matrices\n",
    "US_mat = sio.loadmat('../data/ER_correct_5_Ux_Sx.mat')\n",
    "Ux = US_mat[\"Ux\"]\n",
    "Sx = US_mat[\"Sx\"]\n",
    "print(Ux.shape, Sx.shape)"
   ]
  },
  {
   "cell_type": "code",
   "execution_count": 8,
   "metadata": {},
   "outputs": [
    {
     "name": "stdout",
     "output_type": "stream",
     "text": [
      "CW = 20  Sample number = 99 19  Sample number = 41 0  Sample number = 7 0  Sample number = 10 0  Sample number = 17 0  Sample number = 22 0  Sample number = 25 0  Sample number = 27 0  Sample number = 34 0  Sample number = 46 0  Sample number = 59 0  Sample number = 74 0  Sample number = 91 1  Sample number = 18 1  Sample number = 28 1  Sample number = 62 1  Sample number = 84 2  Sample number = 29 2  Sample number = 31 2  Sample number = 42 2  Sample number = 75 2  Sample number = 80 2  Sample number = 86 3  Sample number = 7 3  Sample number = 12 3  Sample number = 22 3  Sample number = 28 3  Sample number = 34 3  Sample number = 48 3  Sample number = 61 3  Sample number = 79 3  Sample number = 81 3  Sample number = 95 4  Sample number = 5 4  Sample number = 20 4  Sample number = 29 4  Sample number = 37 4  Sample number = 42 4  Sample number = 44 4  Sample number = 55 4  Sample number = 67 4  Sample number = 75 4  Sample number = 96 4  Sample number = 99 5  Sample number = 7 5  Sample number = 17 5  Sample number = 19 5  Sample number = 25 5  Sample number = 39 5  Sample number = 46 5  Sample number = 50 5  Sample number = 54 5  Sample number = 59 5  Sample number = 74 5  Sample number = 84 6  Sample number = 10 6  Sample number = 14 6  Sample number = 27 6  Sample number = 32 6  Sample number = 41 6  Sample number = 54 6  Sample number = 64 6  Sample number = 72 6  Sample number = 95 7  Sample number = 4 7  Sample number = 77 8  Sample number = 28 8  Sample number = 34 8  Sample number = 65 8  Sample number = 69 8  Sample number = 78 Sample number = 80 9  Sample number = 4 9  Sample number = 24 9  Sample number = 32 9  Sample number = 34 9  Sample number = 61 9  Sample number = 73 9  Sample number = 75 9  Sample number = 79 9  Sample number = 88 10  Sample number = 45 10  Sample number = 50 10  Sample number = 52 10  Sample number = 62 10  Sample number = 67 10  Sample number = 84 10  Sample number = 86 10  Sample number = 91 11  Sample number = 3 11  Sample number = 14 11  Sample number = 17 11  Sample number = 22 11  Sample number = 25 11  Sample number = 29 11  Sample number = 51 11  Sample number = 61 11  Sample number = 86 11  Sample number = 90 11  Sample number = 93 12  Sample number = 7 12  Sample number = 27 12  Sample number = 54 12  Sample number = 59 12  Sample number = 69 12  Sample number = 73 13  Sample number = 33 13  Sample number = 38 13  Sample number = 54 13  Sample number = 74 13  Sample number = 95 14  Sample number = 58 14  Sample number = 85 14  Sample number = 92 14  Sample number = 94 15  Sample number = 9 15  Sample number = 20 15  Sample number = 24 15  Sample number = 40 15  Sample number = 62 15  Sample number = 65 15  Sample number = 71 15  Sample number = 95 16  Sample number = 443 16  Sample number = 61 16  Sample number = 90 16  Sample number = 94 17  Sample number = 2 17  Sample number = 5 17  Sample number = 34 17  Sample number = 55 17  Sample number = 59 17  Sample number = 61 17  Sample number = 64 17  Sample number = 69 18  Sample number = 2 18  Sample number = 27 18  Sample number = 37 18  Sample number = 61 18  Sample number = 66 18  Sample number = 69 18  Sample number = 84 19  Sample number = 3 19  Sample number = 14 19  Sample number = 37 19  Sample number = 44 19  Sample number = 51 19  Sample number = 58 19  Sample number = 64 19  Sample number = 70 19  Sample number = 91 19  Sample number = 96 20  Sample number = 4 20  Sample number = 17 20  Sample number = 33 20  Sample number = 36 20  Sample number = 58 20  Sample number = 69 20  Sample number = 86 20  Sample number = 91 20  Sample number = 96\r"
     ]
    }
   ],
   "source": [
    "# Run Spectral AI (Park et al.) on all the problem instances\n",
    "rank1_error = []\n",
    "time_rank1_list = []\n",
    "for cw in range(cw_len):\n",
    "    diff_rank1 = []\n",
    "    for sample in range(num_samples):\n",
    "        print(\"CW =\", cw, \" Sample number =\", sample, end=\"\\r\")\n",
    "        A = coupling_data[:, :, cw, sample]\n",
    "        h = bias_data[:, cw, sample]\n",
    "        ground_truth = logZ_data[cw, sample]\n",
    "        im = IsingModel(h, A)\n",
    "        \n",
    "        V, s = Ux[:, :, cw, sample], np.diag(Sx[:, :, cw, sample])\n",
    "        st = time.time()\n",
    "        rank = Rank1Ising(im, V, s)\n",
    "        diff_rank1.append(np.abs(ground_truth - rank.run_rank1()))\n",
    "        time_rank1_list.append(time.time() - st)\n",
    "    rank1_error.append(np.mean(diff_rank1))\n",
    "    \n",
    "# Run our algorithm on all the problem instances\n",
    "sdp_r = []\n",
    "t_list = []\n",
    "rounding_iters = 500\n",
    "model = PottsModel()\n",
    "for i in range(cw_len):\n",
    "    diff_sdp_r = []\n",
    "    for sample in range(num_samples):\n",
    "        print(\"CW =\", i, \" Sample number =\", sample, end=\"\\r\")\n",
    "        A = coupling_data[:, :, i, sample]\n",
    "        h = np.zeros((n, 2))\n",
    "        h[:, 0] = bias_data[:, i, sample]\n",
    "        ground_truth = logZ_data[i, sample]\n",
    "        model.set_model_parameters(A, h, 2)\n",
    "        s = time.time()\n",
    "        rounded_logZ = model.solve_partition_function(solver='M4', rounding_iters=rounding_iters)\n",
    "        t_list.append(time.time() - s)\n",
    "        diff_sdp_r.append(np.abs(ground_truth - rounded_logZ))\n",
    "    sdp_r.append(np.mean(diff_sdp_r))\n",
    "\n",
    "# Run the method by Wang et al. on all the problem instances\n",
    "sdp_iclr_error = []\n",
    "time_sdp_iclr_list = []\n",
    "for i in range(cw_len):\n",
    "    diff_sdp_iclr = []\n",
    "    for sample in range(num_samples):\n",
    "        print(\"CW =\", i, \" Sample number =\", sample, end=\"\\r\")\n",
    "        A = coupling_data[:, :, i, sample]\n",
    "        h = bias_data[:, i, sample]\n",
    "        ground_truth = logZ_data[i, sample]\n",
    "        s = time.time()\n",
    "        _, sdp_iclr_estimate = compute_logZ_sdp_iclr(A, h, rounding_iters=500)\n",
    "        time_sdp_iclr_list.append(time.time() - s)\n",
    "        diff_sdp_iclr.append(np.abs(ground_truth - sdp_iclr_estimate))\n",
    "    sdp_iclr_error.append(np.mean(diff_sdp_iclr))"
   ]
  },
  {
   "cell_type": "code",
   "execution_count": 9,
   "metadata": {},
   "outputs": [
    {
     "data": {
      "image/png": "[encoded data removed]",
      "text/plain": [
       "<Figure size 432x288 with 1 Axes>"
      ]
     },
     "metadata": {
      "needs_background": "light"
     },
     "output_type": "display_data"
    }
   ],
   "source": [
    "x_axis = np.arange(0, 5.25, 0.25)\n",
    "x_axis[0] = 0.05\n",
    "\n",
    "plt.plot(x_axis, sdp_iclr_error, marker=\"o\", label=\"Exact $p_v$ for k=2 (500) [~0.2s]\")\n",
    "plt.plot(x_axis, sdp_r, marker=\"o\", label=\"Ours (500) [~0.2s]\")\n",
    "plt.plot(x_axis, rank1_error, marker=\"o\", label=\"Spectral AI [~0.3s]\")\n",
    "plt.xticks([0, 1, 2, 3, 4, 5], rotation=\"horizontal\")\n",
    "plt.legend(loc=\"upper left\")\n",
    "# plt.xticks(cw_range, rotation=\"vertical\")\n",
    "plt.xlabel(\"Coupling strength\", fontsize=16)\n",
    "plt.ylabel(\"$|\\log Z - \\log \\hat{Z}$|\", fontsize=16)\n",
    "plt.show()"
   ]
  }
 ],
 "metadata": {
  "kernelspec": {
   "display_name": "Python 3",
   "language": "python",
   "name": "python3"
  },
  "language_info": {
   "codemirror_mode": {
    "name": "ipython",
    "version": 3
   },
   "file_extension": ".py",
   "mimetype": "text/x-python",
   "name": "python",
   "nbconvert_exporter": "python",
   "pygments_lexer": "ipython3",
   "version": "3.8.5"
  }
 },
 "nbformat": 4,
 "nbformat_minor": 4
}
