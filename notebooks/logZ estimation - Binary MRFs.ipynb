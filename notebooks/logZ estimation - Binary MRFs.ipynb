{
 "cells": [
  {
   "cell_type": "code",
   "execution_count": 1,
   "metadata": {},
   "outputs": [],
   "source": [
    "import sys\n",
    "sys.path.insert(0, \"../spectral_approximate_inference\")\n",
    "import numpy as np\n",
    "import matplotlib.pyplot as plt\n",
    "from read_mat import ReadMat\n",
    "import pandas as pd\n",
    "import time\n",
    "import scipy.io as sio\n",
    "import math\n",
    "import cffi"
   ]
  },
  {
   "cell_type": "code",
   "execution_count": 2,
   "metadata": {},
   "outputs": [],
   "source": [
    "sys.path.insert(0, \"../spectral_approximate_inference/gm\")\n",
    "sys.path.insert(0, \"../spectral_approximate_inference/inference\")\n",
    "from gm import *\n",
    "from factor import *\n",
    "from ising_model import *\n",
    "from rank1_ising import Rank1Ising\n",
    "import scipy.io as sio"
   ]
  },
  {
   "cell_type": "code",
   "execution_count": null,
   "metadata": {},
   "outputs": [],
   "source": [
    "ffi = cffi.FFI()\n",
    "ffi.cdef('float mixing(int n, int k, float *A, float *h, float *V, float eps, int max_iter);'\n",
    "        'float mixing_plus(int n, int d, int k, float *A, float *h, float *Z, float eps, int max_iter);')\n",
    "\n",
    "ffi.set_source('_part', r'''\n",
    "        #include \"part.h\"\n",
    "''', sources=['part.c'], source_extension='.c',\n",
    "   extra_compile_args=['-O3'],\n",
    ")\n",
    "\n",
    "ffi.compile(verbose=True)\n",
    "import _part"
   ]
  },
  {
   "cell_type": "code",
   "execution_count": 70,
   "metadata": {},
   "outputs": [],
   "source": [
    "# Convert vector to string\n",
    "def get_string_from_vector(v):\n",
    "    ret = \"\"\n",
    "    for digit in v:\n",
    "        if digit == -1:\n",
    "            ret += \"0\"\n",
    "        else:\n",
    "            ret += \"1\"\n",
    "    return ret\n",
    "\n",
    "# Sample n vectors uniformly on unit sphere\n",
    "def sample_unit_sphere(k, n):\n",
    "    ret = np.random.normal(0, 1, size=(k, n))\n",
    "    ret = ret / np.linalg.norm(ret, axis=0, keepdims=True)\n",
    "    return ret"
   ]
  },
  {
   "cell_type": "code",
   "execution_count": 4,
   "metadata": {},
   "outputs": [],
   "source": [
    "# Run mixing method\n",
    "def mixing(A, h, V, max_iter=100, eps=0):\n",
    "    n = A.shape[0]\n",
    "    d = V.shape[1]\n",
    "    assert A.shape[1] == n and h.shape[0] == n and h.shape[1] == d\n",
    "    A = A.astype(np.float32)\n",
    "    h = h.astype(np.float32)\n",
    "    _V = V.astype(np.float32)\n",
    "\n",
    "    diff = _part.lib.mixing(n, d, ffi.from_buffer('float[]', A), ffi.from_buffer('float[]', h), \n",
    "                            ffi.from_buffer('float[]', _V), eps, max_iter)\n",
    "    V[:] = _V\n",
    "    return diff\n",
    "\n",
    "# Run the mixing_plus method\n",
    "def mixing_plus(A, h, Z, k, max_iter=100, eps=0):\n",
    "    n = A.shape[0]\n",
    "    d = Z.shape[1]\n",
    "    m = d // k\n",
    "    assert A.shape[1] == n and h.shape[0] == n and h.shape[1] == d\n",
    "    assert d % k == 0\n",
    "    A = A.astype(np.float32)\n",
    "    h = h.reshape((n,m,k)).transpose(0,2,1)\n",
    "    h = np.ascontiguousarray(h, dtype=np.float32)\n",
    "    _Z = np.ascontiguousarray(Z.reshape((n,m,k)).transpose(0,2,1)).astype(np.float32)\n",
    "\n",
    "    diff = _part.lib.mixing_plus(n, d, k, ffi.from_buffer('float[]', A), ffi.from_buffer('float[]', h), ffi.from_buffer('float[]', _Z), eps, max_iter)\n",
    "    Z[:] = _Z.reshape((n,k,m)).transpose(0,2,1).reshape((n,d))\n",
    "    return diff"
   ]
  },
  {
   "cell_type": "code",
   "execution_count": 6,
   "metadata": {},
   "outputs": [],
   "source": [
    "# Generate all (k)^n strings in support of MRF\n",
    "def generate_strings(n, k):\n",
    "    assert k >= 2 and k < 10\n",
    "    if n == 1:\n",
    "        return [str(i) for i in range(k)]\n",
    "    ret = []\n",
    "    all_smaller_strings = generate_strings(n-1, k)\n",
    "    for i in range(k):\n",
    "        ret.extend([str(i) + s for s in all_smaller_strings])\n",
    "    return ret\n",
    "\n",
    "# Convert vector to string\n",
    "def get_string_from_vector(v):\n",
    "    ret = \"\"\n",
    "    for digit in v:\n",
    "        assert digit >=0 and digit < 10\n",
    "        ret += str(digit)\n",
    "    return ret\n",
    "\n",
    "# Sample n vectors uniformly on unit sphere\n",
    "def sample_unit_sphere(n, d):\n",
    "    ret = np.random.normal(0, 1, size=(n, d))\n",
    "    ret = ret / np.linalg.norm(ret, axis=1, keepdims=True)\n",
    "    return ret\n",
    "\n",
    "# Get f = \\sum_{ij}Aij\\delta(i, j)/2 + \\sum_i\\sum_k b_ik\\delta(i, k)\n",
    "def get_f(A, h, s):\n",
    "    k = h.shape[1]\n",
    "    n = A.shape[0]\n",
    "    if type(s) == str:\n",
    "        s = np.array(list(s), dtype=int)\n",
    "    delta = np.zeros((k, n))\n",
    "    delta[s, np.arange(n)] = 1\n",
    "    sm = np.sum((delta.T @ delta) * A) - np.sum(A) / 2\n",
    "    truth = np.eye(k)\n",
    "    sm += 2 * np.sum((delta.T @ truth) * h) - np.sum(h)\n",
    "    return sm\n",
    "\n",
    "# Multiply V by the matrix S efficiently\n",
    "def mul_S(s, V):\n",
    "    d = V.shape[1]\n",
    "    k = s.shape[0]\n",
    "    assert d % k == 0\n",
    "    return (V.reshape(-1, d // k, k) @ s).reshape(V.shape)\n",
    "\n",
    "# Rounding in the multi-class case\n",
    "def obtain_rounded_v(V, B):\n",
    "    n = V.shape[0]\n",
    "    d = V.shape[1]\n",
    "    k = B.shape[0]\n",
    "    r = np.random.normal(0, 1, size=(k, d))\n",
    "    r = r / np.linalg.norm(r, axis=1, keepdims=True)\n",
    "    \n",
    "    rounded_v = np.argmax(V @ r.T, axis=1)\n",
    "    rounded_v_one_hot = np.zeros((n, k))\n",
    "    rounded_v_one_hot[np.arange(n), rounded_v] = 1\n",
    "    \n",
    "    # shape(num_classes): saying that r:i maps to S:j\n",
    "    r_to_B = np.argmax(r @ B.T, axis=1)\n",
    "    transformation_matrix = np.zeros((k, k))\n",
    "    transformation_matrix[np.arange(k), r_to_B] = 1\n",
    "    rounded_v_one_hot = rounded_v_one_hot @ transformation_matrix\n",
    "    rounded_v = np.argmax(rounded_v_one_hot, axis=1)\n",
    "    \n",
    "    return rounded_v"
   ]
  },
  {
   "cell_type": "markdown",
   "metadata": {},
   "source": [
    "<h2> Our method"
   ]
  },
  {
   "cell_type": "code",
   "execution_count": 7,
   "metadata": {},
   "outputs": [],
   "source": [
    "# Compute the log-sum-exp of a list safely\n",
    "def LSE(y):\n",
    "    max_y = np.max(y)\n",
    "    return np.log(np.sum(np.exp(np.array(y)-max_y))) + max_y\n",
    "\n",
    "# Routine to compute partition function: Algorithm 4 in paper\n",
    "def compute_logZ_sdp(A, h, rounding_iters=10000, method=\"mixing\"):\n",
    "    n = len(A)\n",
    "    k = h.shape[1]\n",
    "    \n",
    "    if method == \"mixing-plus\":\n",
    "        d = int(np.ceil(k * np.sqrt(2*n) + 1))\n",
    "\n",
    "        while(d % k != 0):\n",
    "            d += 1\n",
    "        assert d >= k\n",
    "\n",
    "        C_hat = (k/(k-1))*np.eye(k) - (1/(k-1))*np.full((k, k), 1)\n",
    "        U, Sigma, Ut = np.linalg.svd(C_hat)\n",
    "        s = (np.diag(Sigma) ** 0.5) @ Ut\n",
    "\n",
    "        Z = np.random.normal(0, 1, size=(n, d))\n",
    "        Z = np.abs(Z)\n",
    "        Z = Z / np.linalg.norm(Z, axis=1, keepdims=True)\n",
    "\n",
    "        B = np.zeros((k, d))\n",
    "        B[np.arange(k), np.arange(k)] = 1\n",
    "\n",
    "        _h = h @ B\n",
    "\n",
    "        Z = np.asarray(Z, order='C')\n",
    "        A = np.asarray(A, order='C')\n",
    "        _h = np.asarray(_h, order='C') \n",
    "\n",
    "        diff = mixing_plus(A, _h, Z, k, max_iter=100, eps=0)\n",
    "\n",
    "        V = mul_S(s.T, Z)\n",
    "        B = mul_S(s.T, B)\n",
    "    elif method == \"mixing\":\n",
    "        d = int(np.ceil(np.sqrt(2*(n+k*(k+1)/2)) + 1))\n",
    "        \n",
    "        V = sample_unit_sphere(n, d)\n",
    "        B = np.zeros((k, d))\n",
    "        B[np.arange(k), np.arange(k)] = 1\n",
    "        r0 = np.sum(B, axis=0) / k\n",
    "        c = np.sqrt((k - 1) / k)\n",
    "        B = (B - r0[np.newaxis, :]) / c\n",
    "        _h = h @ B\n",
    "        V = np.asarray(V, order='C')\n",
    "        A = np.asarray(A, order='C')\n",
    "        _h = np.asarray(_h, order='C')\n",
    "        diff = mixing(A, _h, V)\n",
    "    \n",
    "    sdp_logZ = np.trace(A.T @ (V @ V.T)) / 2  + np.sum((V @ B.T) * h)\n",
    "    \n",
    "    s_list = {}\n",
    "    f_list = []\n",
    "    for _ in range(rounding_iters):\n",
    "        x = obtain_rounded_v(V, B)\n",
    "        f = get_f(A, h, x)\n",
    "        s = get_string_from_vector(x)\n",
    "        if s not in s_list:\n",
    "            s_list[s] = 1\n",
    "            f_list.append(f)\n",
    "\n",
    "    rem = np.log(1-np.exp(np.log(len(f_list))-n*np.log(k)))\n",
    "\n",
    "    y_list = []\n",
    "    while True:\n",
    "        if len(y_list) >= rounding_iters: break\n",
    "        x = np.random.choice(k, n, replace=True)\n",
    "        s = get_string_from_vector(x)\n",
    "        if s in s_list: continue\n",
    "        f = get_f(A, h, x)\n",
    "        log_q = -n * np.log(k) - rem\n",
    "        f_minus_log_q = f - log_q\n",
    "        y_list.append(f_minus_log_q)\n",
    "    sm = LSE(y_list) - np.log(len(y_list))\n",
    "    sm = LSE([sm]+f_list)\n",
    "\n",
    "    rounded_logZ = sm\n",
    "    return sdp_logZ, rounded_logZ"
   ]
  },
  {
   "cell_type": "markdown",
   "metadata": {},
   "source": [
    "<h2> Geometric method by Wang et al. ICLR 2014"
   ]
  },
  {
   "cell_type": "code",
   "execution_count": 8,
   "metadata": {},
   "outputs": [],
   "source": [
    "def compute_logZ_sdp_iclr(A, h, rounding_iters=10000):\n",
    "    # Convert vector to string\n",
    "    def get_string_from_vector(v):\n",
    "        ret = \"\"\n",
    "        for digit in v:\n",
    "            if digit == -1:\n",
    "                ret += \"0\"\n",
    "            else:\n",
    "                ret += \"1\"\n",
    "        return ret\n",
    "    \n",
    "    # Sample n vectors uniformly on unit sphere\n",
    "    def sample_unit_sphere(d, n):\n",
    "        ret = np.random.normal(0, 1, size=(d, n))\n",
    "        ret = ret / np.linalg.norm(ret, axis=0, keepdims=True)\n",
    "        return ret\n",
    "\n",
    "    def get_angle(cos_theta):\n",
    "        assert -1 <= cos_theta\n",
    "        assert cos_theta <= 1\n",
    "        return math.acos(cos_theta)\n",
    "    \n",
    "    def get_perp_vector(v):\n",
    "        return np.array((-v[1], v[0]))\n",
    "    \n",
    "    # Run the mixing method for optimization\n",
    "    def mixing_method(V, A, h, max_iters=100):\n",
    "        n = len(A)\n",
    "        d = V.shape[0]\n",
    "        for _ in range(max_iters):\n",
    "            for i in range(n):\n",
    "                accumulation = np.zeros(d)\n",
    "                accumulation[0] = h[i]\n",
    "                for j in range(n):\n",
    "                    accumulation = accumulation + A[i, j] * V[:, j]\n",
    "                accumulation = accumulation / np.linalg.norm(accumulation)\n",
    "                V[:, i] = accumulation\n",
    "        return V\n",
    "    \n",
    "    n = len(A)\n",
    "    d = 2\n",
    "    V = sample_unit_sphere(d, n)\n",
    "    \n",
    "    # Setting v_t = e_d\n",
    "    v_t = np.zeros(d)\n",
    "    v_t[-1] = 1\n",
    "    \n",
    "    # Perform mixing method on V\n",
    "    V = mixing_method(V, A, h)\n",
    "    \n",
    "    sdp_logZ = np.trace(A.T @ (V.T @ V)) / 2 + (h.T @ (V.T @ v_t)) # <A, V^TV> / 2 + <h, V^Tv_t>\n",
    "    \n",
    "    angles_list = [0, np.pi]\n",
    "    for i in range(V.shape[1]):\n",
    "        perp_vec = get_perp_vector(V[:, i])\n",
    "        if perp_vec[1] < 0:\n",
    "            perp_vec = -perp_vec\n",
    "        cos_theta = perp_vec.T @ np.array((1, 0))\n",
    "        angles_list.append(get_angle(cos_theta))\n",
    "    \n",
    "    angles_list = sorted(angles_list)\n",
    "    \n",
    "    p_v = {}\n",
    "    for i in range(len(angles_list) - 1):\n",
    "        angle = (angles_list[i] + angles_list[i+1]) / 2\n",
    "        r = np.array((np.cos(angle), np.sin(angle)))\n",
    "        rounded_v = np.array([np.sign((V[:, j].T @ r) * (v_t.T @ r)) for j in range(n)])\n",
    "        s = get_string_from_vector(rounded_v)\n",
    "        p_v[s] = (angles_list[i+1] - angles_list[i]) / np.pi # pi coz have to multiply prob by 2\n",
    "    \n",
    "    f_list = []\n",
    "    mx = -np.inf\n",
    "    for _ in range(rounding_iters):\n",
    "        r = sample_unit_sphere(d, 1)\n",
    "        r = np.reshape(r, -1)\n",
    "        x = np.array([np.sign((V[:, j].T @ r) * (v_t.T @ r)) for j in range(n)])\n",
    "        f = (x.T @ A @ x) / 2 + (h.T @ x)\n",
    "        s = get_string_from_vector(x)\n",
    "        assert s in p_v\n",
    "        f_list.append(f - np.log(p_v[s]))\n",
    "        mx = max(mx, f - np.log(p_v[s]))\n",
    "    \n",
    "    f_list = np.array(f_list)\n",
    "    f_list = f_list - mx\n",
    "    rounded_logZ = np.log(np.sum(np.exp(f_list)))\n",
    "    rounded_logZ += mx\n",
    "    rounded_logZ -= np.log(rounding_iters)\n",
    " \n",
    "    return sdp_logZ, rounded_logZ"
   ]
  },
  {
   "cell_type": "markdown",
   "metadata": {},
   "source": [
    "<h2> ER graph n=20"
   ]
  },
  {
   "cell_type": "code",
   "execution_count": 13,
   "metadata": {},
   "outputs": [
    {
     "name": "stdout",
     "output_type": "stream",
     "text": [
      "(20, 20, 21, 100) (20, 21, 100) (21, 100)\n",
      "(21, 21, 21, 100) (21, 21, 21, 100)\n"
     ]
    }
   ],
   "source": [
    "mat = sio.loadmat('../data/ER_5_data.mat')\n",
    "coupling_data = mat['coupling']\n",
    "bias_data = mat['bias']\n",
    "logZ_data = mat['logZ']\n",
    "print(coupling_data.shape, bias_data.shape, logZ_data.shape)\n",
    "n = coupling_data.shape[0]\n",
    "cw_len = coupling_data.shape[-2]\n",
    "num_samples = coupling_data.shape[-1]\n",
    "\n",
    "# Required to run Park et al; refer to spectral_approximate_inference/matlab_code/check.m\n",
    "# on how to compute these matrices\n",
    "US_mat = sio.loadmat('../data/ER_correct_5_Ux_Sx.mat')\n",
    "Ux = US_mat[\"Ux\"]\n",
    "Sx = US_mat[\"Sx\"]\n",
    "print(Ux.shape, Sx.shape)"
   ]
  },
  {
   "cell_type": "code",
   "execution_count": 14,
   "metadata": {},
   "outputs": [
    {
     "name": "stdout",
     "output_type": "stream",
     "text": [
      "CW = 20  Sample number = 99 0  Sample number = 10 0  Sample number = 14 0  Sample number = 26 0  Sample number = 40 0  Sample number = 44 0  Sample number = 64 0  Sample number = 86 0  Sample number = 90 1  Sample number = 11 1  Sample number = 28 1  Sample number = 34 1  Sample number = 84 1  Sample number = 95 2  Sample number = 8 2  Sample number = 19 2  Sample number = 44 2  Sample number = 58 2  Sample number = 61 2  Sample number = 63 2  Sample number = 70 2  Sample number = 79 2  Sample number = 85 2  Sample number = 98 3  Sample number = 25 3  Sample number = 29 3  Sample number = 33 3  Sample number = 38 3  Sample number = 41 3  Sample number = 50 3  Sample number = 90 3  Sample number = 94 4  Sample number = 4 4  Sample number = 9 4  Sample number = 13 4  Sample number = 17 4  Sample number = 20 4  Sample number = 44 4  Sample number = 55 4  Sample number = 63 4  Sample number = 73 4  Sample number = 82 4  Sample number = 84 4  Sample number = 94 4  Sample number = 97 5  Sample number = 0 5  Sample number = 4 5  Sample number = 9 5  Sample number = 13 5  Sample number = 44 5  Sample number = 46 5  Sample number = 57 5  Sample number = 63 5  Sample number = 79 5  Sample number = 98 6  Sample number = 26 6  Sample number = 43 6  Sample number = 466  Sample number = 71 6  Sample number = 83 6  Sample number = 91 7  Sample number = 18 7  Sample number = 24 7  Sample number = 32 7  Sample number = 47 7  Sample number = 58 7  Sample number = 76 7  Sample number = 93 8  Sample number = 16 8  Sample number = 23 8  Sample number = 27 8  Sample number = 55 8  Sample number = 69 8  Sample number = 74 8  Sample number = 86 9  Sample number = 1 9  Sample number = 7 9  Sample number = 30 9  Sample number = 57 9  Sample number = 60 9  Sample number = 68 9  Sample number = 70 10  Sample number = 20 10  Sample number = 56 10  Sample number = 73  Sample number = 1 11  Sample number = 11 12  Sample number = 0 12  Sample number = 18 12  Sample number = 20 12  Sample number = 30 12  Sample number = 38 12  Sample number = 51 13  Sample number = 49 13  Sample number = 68 13  Sample number = 87 14  Sample number = 5 14  Sample number = 29 14  Sample number = 61 14  Sample number = 85 14  Sample number = 97 15  Sample number = 22 15  Sample number = 28 15  Sample number = 47 15  Sample number = 56 15  Sample number = 95 15  Sample number = 97 16  Sample number = 36 16  Sample number = 43 16  Sample number = 53 16  Sample number = 60 16  Sample number = 65 16  Sample number = 86 17  Sample number = 9 17  Sample number = 50 17  Sample number = 52 17  Sample number = 65 17  Sample number = 86 17  Sample number = 93 18  Sample number = 13 18  Sample number = 16 18  Sample number = 30 18  Sample number = 40 18  Sample number = 52 18  Sample number = 55 18  Sample number = 65 18  Sample number = 76 18  Sample number = 89 19  Sample number = 3 19  Sample number = 8 19  Sample number = 26 19  Sample number = 30 19  Sample number = 39 19  Sample number = 46 19  Sample number = 50 19  Sample number = 56 19  Sample number = 59 19  Sample number = 64 19  Sample number = 80 19  Sample number = 89 20  Sample number = 0 20  Sample number = 13 20  Sample number = 20 20  Sample number = 62 20  Sample number = 67 20  Sample number = 73 20  Sample number = 75 20  Sample number = 89\r"
     ]
    }
   ],
   "source": [
    "# Run Spectral AI (Park et al.) on all the problem instances\n",
    "rank1_error = []\n",
    "time_rank1_list = []\n",
    "for cw in range(cw_len):\n",
    "    diff_rank1 = []\n",
    "    for sample in range(num_samples):\n",
    "        print(\"CW =\", cw, \" Sample number =\", sample, end=\"\\r\")\n",
    "        A = coupling_data[:, :, cw, sample]\n",
    "        h = bias_data[:, cw, sample]\n",
    "        ground_truth = logZ_data[cw, sample]\n",
    "        im = IsingModel(h, A)\n",
    "        \n",
    "        V, s = Ux[:, :, cw, sample], np.diag(Sx[:, :, cw, sample])\n",
    "        st = time.time()\n",
    "        rank = Rank1Ising(im, V, s)\n",
    "        diff_rank1.append(np.abs(ground_truth - rank.run_rank1()))\n",
    "        time_rank1_list.append(time.time() - st)\n",
    "    rank1_error.append(np.mean(diff_rank1))\n",
    "    \n",
    "# Run our algorithm on all the problem instances\n",
    "sdp_r = []\n",
    "t_list = []\n",
    "rounding_iters = 500\n",
    "for i in range(cw_len):\n",
    "    diff_sdp_r = []\n",
    "    for sample in range(num_samples):\n",
    "        print(\"CW =\", i, \" Sample number =\", sample, end=\"\\r\")\n",
    "        A = coupling_data[:, :, i, sample]\n",
    "        h = np.zeros((n, 2))\n",
    "        h[:, 0] = bias_data[:, i, sample]\n",
    "        ground_truth = logZ_data[i, sample]\n",
    "        s = time.time()\n",
    "        _, rounded_logZ = compute_logZ_sdp(A, h, rounding_iters=rounding_iters, method=\"mixing\")\n",
    "        t_list.append(time.time() - s)\n",
    "        diff_sdp_r.append(np.abs(ground_truth - rounded_logZ))\n",
    "    sdp_r.append(np.mean(diff_sdp_r))\n",
    "\n",
    "# Run the method by Wang et al. on all the problem instances\n",
    "sdp_iclr_error = []\n",
    "time_sdp_iclr_list = []\n",
    "for i in range(cw_len):\n",
    "    diff_sdp_iclr = []\n",
    "    for sample in range(num_samples):\n",
    "        print(\"CW =\", i, \" Sample number =\", sample, end=\"\\r\")\n",
    "        A = coupling_data[:, :, i, sample]\n",
    "        h = bias_data[:, i, sample]\n",
    "        ground_truth = logZ_data[i, sample]\n",
    "        s = time.time()\n",
    "        _, sdp_iclr_estimate = compute_logZ_sdp_iclr(A, h, rounding_iters=500)\n",
    "        time_sdp_iclr_list.append(time.time() - s)\n",
    "        diff_sdp_iclr.append(np.abs(ground_truth - sdp_iclr_estimate))\n",
    "    sdp_iclr_error.append(np.mean(diff_sdp_iclr))"
   ]
  },
  {
   "cell_type": "code",
   "execution_count": 17,
   "metadata": {},
   "outputs": [
    {
     "data": {
      "image/png": "[encoded data removed]",
      "text/plain": [
       "<Figure size 432x288 with 1 Axes>"
      ]
     },
     "metadata": {
      "needs_background": "light"
     },
     "output_type": "display_data"
    }
   ],
   "source": [
    "x_axis = np.arange(0, 5.25, 0.25)\n",
    "x_axis[0] = 0.05\n",
    "\n",
    "plt.plot(x_axis, sdp_iclr_error, marker=\"o\", label=\"Exact $p_v$ for k=2 (500) [~0.2s]\")\n",
    "plt.plot(x_axis, sdp_r, marker=\"o\", label=\"Ours (500) [~0.2s]\")\n",
    "plt.plot(x_axis, rank1_error, marker=\"o\", label=\"Spectral AI [~0.3s]\")\n",
    "plt.xticks([0, 1, 2, 3, 4, 5], rotation=\"horizontal\")\n",
    "plt.legend(loc=\"upper left\")\n",
    "# plt.xticks(cw_range, rotation=\"vertical\")\n",
    "plt.xlabel(\"Coupling strength\", fontsize=16)\n",
    "plt.ylabel(\"$|\\log Z - \\log \\hat{Z}$|\", fontsize=16)\n",
    "plt.show()"
   ]
  },
  {
   "cell_type": "markdown",
   "metadata": {},
   "source": [
    "<h2> Complete graph n=20"
   ]
  },
  {
   "cell_type": "code",
   "execution_count": 18,
   "metadata": {},
   "outputs": [
    {
     "name": "stdout",
     "output_type": "stream",
     "text": [
      "21 100 20\n"
     ]
    }
   ],
   "source": [
    "mat = sio.loadmat('../data/20complete_dataset')\n",
    "coupling_data = mat['A']\n",
    "bias_data = mat['h']\n",
    "logZ_data = mat['logZ']\n",
    "cw_len = coupling_data.shape[-2]\n",
    "num_samples = coupling_data.shape[-1]\n",
    "n = coupling_data.shape[0]\n",
    "print(cw_len, num_samples, n)"
   ]
  },
  {
   "cell_type": "code",
   "execution_count": 21,
   "metadata": {},
   "outputs": [
    {
     "name": "stdout",
     "output_type": "stream",
     "text": [
      "CW = 20  Sample number = 99 0  Sample number = 6 0  Sample number = 13 0  Sample number = 31 0  Sample number = 52 0  Sample number = 57 64 0  Sample number = 70 0  Sample number = 73 0  Sample number = 77 1  Sample number = 3 1  Sample number = 99 2  Sample number = 1 2  Sample number = 21 2  Sample number = 25 2  Sample number = 28 2  Sample number = 38 2  Sample number = 47 2  Sample number = 63 2  Sample number = 98 3  Sample number = 7 3  Sample number = 27 3  Sample number = 30 3  Sample number = 59 3  Sample number = 64 3  Sample number = 72 3  Sample number = 81 3  Sample number = 86 3  Sample number = 97 4  Sample number = 28 4  Sample number = 32 4  Sample number = 37 4  Sample number = 54 4  Sample number = 58 4  Sample number = 69 4  Sample number = 95 5  Sample number = 0 5  Sample number = 6 5  Sample number = 16 5  Sample number = 22 5  Sample number = 36 5  Sample number = 38 5  Sample number = 47 5  Sample number = 54 5  Sample number = 71 5  Sample number = 83 5  Sample number = 89 6  Sample number = 2 6  Sample number = 14 6  Sample number = 20 6  Sample number = 28 6  Sample number = 41 6  Sample number = 55 6  Sample number = 60 6  Sample number = 63 6  Sample number = 75 6  Sample number = 78 7  Sample number = 1 7  Sample number = 4 7  Sample number = 11 7  Sample number = 16 7  Sample number = 22 7  Sample number = 25 7  Sample number = 30 7  Sample number = 33 7  Sample number = 46 7  Sample number = 48 7  Sample number = 55 7  Sample number = 57 7  Sample number = 59 7  Sample number = 61 7  Sample number = 69 7  Sample number = 77 7  Sample number = 82 7  Sample number = 98 8  Sample number = 8 8  Sample number = 12 8  Sample number = 18 8  Sample number = 20 8  Sample number = 22 8  Sample number = 36 9  Sample number = 5 9  Sample number = 27 9  Sample number = 31 9  Sample number = 33 9  Sample number = 38 9  Sample number = 43 9  Sample number = 67 10  Sample number = 42 10  Sample number = 45 10  Sample number = 51 10  Sample number = 60 10  Sample number = 67 10  Sample number = 69 10  Sample number = 87 10  Sample number = 91 10  Sample number = 95 10  Sample number = 99 11  Sample number = 3 11  Sample number = 9 11  Sample number = 16 11  Sample number = 18 11  Sample number = 33 11  Sample number = 40 11  Sample number = 48 11  Sample number = 53 11  Sample number = 60 11  Sample number = 78 11  Sample number = 80 11  Sample number = 96 11  Sample number = 98 12  Sample number = 7 12  Sample number = 10 12  Sample number = 47 12  Sample number = 51 12  Sample number = 57 12  Sample number = 60 12  Sample number = 64 12  Sample number = 72 12  Sample number = 78 12  Sample number = 82 13  Sample number = 7 13  Sample number = 9 13  Sample number = 15 13  Sample number = 23 13  Sample number = 26 13  Sample number = 34 13  Sample number = 41 13  Sample number = 50 13  Sample number = 55 13  Sample number = 59 13  Sample number = 61 13  Sample number = 71 13  Sample number = 81 13  Sample number = 84 13  Sample number = 93 13  Sample number = 99 14  Sample number = 3 14  Sample number = 14 14  Sample number = 61 14  Sample number = 80 14  Sample number = 87 14  Sample number = 99 15  Sample number = 2 15  Sample number = 5 15  Sample number = 40 15  Sample number = 60 15  Sample number = 84 15  Sample number = 93 16  Sample number = 19 16  Sample number = 23 16  Sample number = 32 16  Sample number = 34 16  Sample number = 53 16  Sample number = 71 16  Sample number = 78 16  Sample number = 83 17  Sample number = 4 17  Sample number = 12 17  Sample number = 16 17  Sample number = 42 17  Sample number = 55 17  Sample number = 62 17  Sample number = 72 17  Sample number = 82 17  Sample number = 84 17  Sample number = 91 18  Sample number = 11 18  Sample number = 20 18  Sample number = 24 18  Sample number = 38 18  Sample number = 50 18  Sample number = 56 18  Sample number = 59 18  Sample number = 62 18  Sample number = 75 18  Sample number = 78 18  Sample number = 79 18  Sample number = 83 18  Sample number = 87 18  Sample number = 90 18  Sample number = 92 18  Sample number = 97 19  Sample number = 3 19  Sample number = 10 19  Sample number = 13 19  Sample number = 45 19  Sample number = 47 19  Sample number = 65 20  Sample number = 9 20  Sample number = 12 20  Sample number = 16 20  Sample number = 19 20  Sample number = 21 20  Sample number = 24 20  Sample number = 57 20  Sample number = 61 20  Sample number = 65 20  Sample number = 70 20  Sample number = 83 20  Sample number = 91 20  Sample number = 97\r"
     ]
    }
   ],
   "source": [
    "# Run Spectral AI (Park et al.) on all the problem instances\n",
    "rank1_error = []\n",
    "time_rank1_list = []\n",
    "for cw in range(1):\n",
    "    diff_rank1 = []\n",
    "    for sample in range(1):\n",
    "        print(\"CW =\", cw, \" Sample number =\", sample, end=\"\\r\")\n",
    "        A = coupling_data[:, :, cw, sample]\n",
    "        h = bias_data[:, cw, sample]\n",
    "        ground_truth = logZ_data[cw, sample]\n",
    "        im = IsingModel(h, A)\n",
    "        \n",
    "        V, s = Ux[:, :, cw, sample], np.diag(Sx[:, :, cw, sample])\n",
    "        st = time.time()\n",
    "        rank = Rank1Ising(im, V, s)\n",
    "        diff_rank1.append(np.abs(ground_truth - rank.run_rank1()))\n",
    "        time_rank1_list.append(time.time() - st)\n",
    "    rank1_error.append(np.mean(diff_rank1))\n",
    "\n",
    "# Run our algorithm on all the problem instances\n",
    "sdp_r = []\n",
    "t_list = []\n",
    "rounding_iters = 500\n",
    "for i in range(1):\n",
    "    diff_sdp_r = []\n",
    "    for sample in range(1):\n",
    "        print(\"CW =\", i, \" Sample number =\", sample, end=\"\\r\")\n",
    "        A = coupling_data[:, :, i, sample]\n",
    "        h = np.zeros((n, 2))\n",
    "        h[:, 0] = bias_data[:, i, sample]\n",
    "        ground_truth = logZ_data[i, sample]\n",
    "        s = time.time()\n",
    "        _, rounded_logZ = compute_logZ_sdp(A, h, rounding_iters=rounding_iters, method=\"mixing-plus\")\n",
    "        t_list.append(time.time() - s)\n",
    "        diff_sdp_r.append(np.abs(ground_truth - rounded_logZ))\n",
    "    sdp_r.append(np.mean(diff_sdp_r))\n",
    "\n",
    "# Run the method by Wang et al. on all the problem instances\n",
    "sdp_iclr_error = []\n",
    "time_sdp_iclr_list = []\n",
    "for i in range(1):\n",
    "    diff_sdp_iclr = []\n",
    "    for sample in range(1):\n",
    "        print(\"CW =\", i, \" Sample number =\", sample, end=\"\\r\")\n",
    "        A = coupling_data[:, :, i, sample]\n",
    "        h = bias_data[:, i, sample]\n",
    "        ground_truth = logZ_data[i, sample]\n",
    "        s = time.time()\n",
    "        _, sdp_iclr_estimate = compute_logZ_sdp_iclr(A, h, rounding_iters=500)\n",
    "        time_sdp_iclr_list.append(time.time() - s)\n",
    "        diff_sdp_iclr.append(np.abs(ground_truth - sdp_iclr_estimate))\n",
    "    sdp_iclr_error.append(np.mean(diff_sdp_iclr))"
   ]
  },
  {
   "cell_type": "code",
   "execution_count": 23,
   "metadata": {},
   "outputs": [
    {
     "data": {
      "image/png": "[encoded data removed]",
      "text/plain": [
       "<Figure size 432x288 with 1 Axes>"
      ]
     },
     "metadata": {
      "needs_background": "light"
     },
     "output_type": "display_data"
    }
   ],
   "source": [
    "x_axis = np.arange(0, 5.25, 0.25)\n",
    "x_axis[0] = 0.05\n",
    "\n",
    "plt.plot(x_axis, sdp_iclr_error, marker=\"o\", label=\"Exact $p_v$ for k=2 (500) [~0.2s]\")\n",
    "plt.plot(x_axis, sdp_r, marker=\"o\", label=\"Ours (500) [~0.2s]\")\n",
    "plt.plot(x_axis, rank1_error, marker=\"o\", label=\"Spectral AI [~0.3s]\")\n",
    "plt.xticks([0, 1, 2, 3, 4, 5], rotation=\"horizontal\")\n",
    "plt.legend(loc=\"upper left\")\n",
    "# plt.xticks(cw_range, rotation=\"vertical\")\n",
    "plt.xlabel(\"Coupling strength\", fontsize=16)\n",
    "plt.ylabel(\"$|\\log Z - \\log \\hat{Z}$|\", fontsize=16)\n",
    "plt.show()"
   ]
  },
  {
   "cell_type": "markdown",
   "metadata": {},
   "source": [
    "<h2> AIS"
   ]
  },
  {
   "cell_type": "code",
   "execution_count": 7,
   "metadata": {},
   "outputs": [],
   "source": [
    "# p(x) \\propto \\exp(x^TAx/2 + h^Tx), x \\in {-1, 1}^n\n",
    "def gibbs_sampling(A, h, x, T, num_cycles=10):\n",
    "    n = len(x)\n",
    "    for cycle in range(num_cycles):\n",
    "        for i in range(n):\n",
    "            p = 1 / (1 + np.exp(- 2 * (A[i, :].T @ x +  h[i]) / T)) # p(x_i=1|x_{-i})\n",
    "            if np.random.rand() < p:\n",
    "                x[i] = 1\n",
    "            else:\n",
    "                x[i] = -1\n",
    "    return x\n",
    "\n",
    "def log_f_k(x, k, inv_temps, A, h):\n",
    "    n = len(x)\n",
    "    weight_on_uniform = (inv_temps[k] - 1) * n * np.log(2)\n",
    "    weight_on_true = inv_temps[k] * ((x.T @ A @ x) / 2 + h.T @ x)\n",
    "    return weight_on_uniform + weight_on_true\n",
    "\n",
    "def ais(A, h, num_samples=500, K=100, num_cycles=10):\n",
    "    n = len(A)\n",
    "    inv_temps = np.linspace(0, 1, K)\n",
    "    sm = 0\n",
    "    log_w_list = []\n",
    "    mx = -np.inf\n",
    "    for i in range(num_samples):  \n",
    "        # print(i)\n",
    "        x = np.random.choice([-1, 1], size=n, replace=True)\n",
    "        w = 0\n",
    "        for k in range(1, K):\n",
    "            w = w + log_f_k(x, k, inv_temps, A, h) - log_f_k(x, k-1, inv_temps, A, h)\n",
    "            x = gibbs_sampling(A, h, x, 1 / inv_temps[k], num_cycles=num_cycles)\n",
    "        log_w_list.append(w)\n",
    "        mx = max(mx, w)\n",
    "\n",
    "    log_w_list = [elem - mx for elem in log_w_list]\n",
    "    logZ = mx + np.log(np.sum(np.exp(log_w_list))) - np.log(num_samples)\n",
    "    return logZ"
   ]
  },
  {
   "cell_type": "code",
   "execution_count": 8,
   "metadata": {},
   "outputs": [
    {
     "name": "stdout",
     "output_type": "stream",
     "text": [
      "CW = 20  Sample number = 4\r"
     ]
    }
   ],
   "source": [
    "# Run AIS to compute logZ on all problem instances\n",
    "K = 25\n",
    "num_samples_ais = 500\n",
    "num_cycles = 1\n",
    "\n",
    "ais_error = []\n",
    "time_ais_list = []\n",
    "for cw in range(cw_len):\n",
    "    diff_ais = []\n",
    "    for sample in range(num_samples):\n",
    "        print(\"CW =\", cw, \" Sample number =\", sample, end=\"\\r\")\n",
    "        A = coupling_data[:, :, cw, sample]\n",
    "        h = bias_data[:, cw, sample]\n",
    "        # ground_truth = partition_function_ground_truth(A, h)\n",
    "        ground_truth = logZ_data[cw, sample]\n",
    "        s = time.time()\n",
    "        ais_estimate = ais(A, h, num_samples=num_samples_ais, K=K, num_cycles=num_cycles)\n",
    "        time_ais_list.append(time.time() - s)\n",
    "        diff_ais.append(np.abs(ground_truth - ais_estimate))\n",
    "    ais_error.append(np.mean(diff_ais))"
   ]
  },
  {
   "cell_type": "code",
   "execution_count": 11,
   "metadata": {},
   "outputs": [
    {
     "data": {
      "image/png": "[encoded data removed]",
      "text/plain": [
       "<Figure size 432x288 with 1 Axes>"
      ]
     },
     "metadata": {
      "needs_background": "light"
     },
     "output_type": "display_data"
    }
   ],
   "source": [
    "x_axis = np.arange(0, 5.25, 0.25)\n",
    "x_axis[0] = 0.05\n",
    "\n",
    "plt.plot(x_axis, ais_error, marker=\"o\", label=\"AIS (25, 1, 500)\")\n",
    "plt.plot(x_axis, sdp_r, marker=\"o\", label=\"Ours (500)\")\n",
    "plt.xticks([0, 1, 2, 3, 4, 5], rotation=\"horizontal\")\n",
    "plt.legend(loc=\"upper left\")\n",
    "# plt.xticks(cw_range, rotation=\"vertical\")\n",
    "plt.xlabel(\"Coupling strength\", fontsize=16)\n",
    "plt.ylabel(\"$|\\log Z - \\log \\hat{Z}$|\", fontsize=16)\n",
    "plt.show()"
   ]
  }
 ],
 "metadata": {
  "kernelspec": {
   "display_name": "Python 3",
   "language": "python",
   "name": "python3"
  },
  "language_info": {
   "codemirror_mode": {
    "name": "ipython",
    "version": 3
   },
   "file_extension": ".py",
   "mimetype": "text/x-python",
   "name": "python",
   "nbconvert_exporter": "python",
   "pygments_lexer": "ipython3",
   "version": "3.8.5"
  }
 },
 "nbformat": 4,
 "nbformat_minor": 2
}
