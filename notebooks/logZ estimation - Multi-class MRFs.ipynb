{
 "cells": [
  {
   "cell_type": "code",
   "execution_count": 1,
   "metadata": {},
   "outputs": [],
   "source": [
    "import sys\n",
    "import numpy as np\n",
    "import matplotlib.pyplot as plt\n",
    "import scipy.io as sio\n",
    "import pandas as pd\n",
    "import time\n",
    "import cffi"
   ]
  },
  {
   "cell_type": "code",
   "execution_count": null,
   "metadata": {},
   "outputs": [],
   "source": [
    "ffi = cffi.FFI()\n",
    "ffi.cdef('float mixing(int n, int k, float *A, float *h, float *V, float eps, int max_iter);'\n",
    "        'float mixing_plus(int n, int d, int k, float *A, float *h, float *Z, float eps, int max_iter);')\n",
    "\n",
    "ffi.set_source('_part', r'''\n",
    "        #include \"part.h\"\n",
    "''', sources=['part.c'], source_extension='.c',\n",
    "   extra_compile_args=['-O3'],\n",
    ")\n",
    "\n",
    "ffi.compile(verbose=True)\n",
    "import _part"
   ]
  },
  {
   "cell_type": "code",
   "execution_count": 3,
   "metadata": {},
   "outputs": [],
   "source": [
    "# Run mixing method\n",
    "def mixing(A, h, V, max_iter=100, eps=0):\n",
    "    n = A.shape[0]\n",
    "    d = V.shape[1]\n",
    "    assert A.shape[1] == n and h.shape[0] == n and h.shape[1] == d\n",
    "    A = A.astype(np.float32)\n",
    "    h = h.astype(np.float32)\n",
    "    _V = V.astype(np.float32)\n",
    "\n",
    "    diff = _part.lib.mixing(n, d, ffi.from_buffer('float[]', A), ffi.from_buffer('float[]', h), \n",
    "                            ffi.from_buffer('float[]', _V), eps, max_iter)\n",
    "    V[:] = _V\n",
    "    return diff\n",
    "\n",
    "# Run the mixing_plus method\n",
    "def mixing_plus(A, h, Z, k, max_iter=100, eps=0):\n",
    "    n = A.shape[0]\n",
    "    d = Z.shape[1]\n",
    "    m = d // k\n",
    "    assert A.shape[1] == n and h.shape[0] == n and h.shape[1] == d\n",
    "    assert d % k == 0\n",
    "    A = A.astype(np.float32)\n",
    "    h = h.reshape((n,m,k)).transpose(0,2,1)\n",
    "    h = np.ascontiguousarray(h, dtype=np.float32)\n",
    "    _Z = np.ascontiguousarray(Z.reshape((n,m,k)).transpose(0,2,1)).astype(np.float32)\n",
    "\n",
    "    diff = _part.lib.mixing_plus(n, d, k, ffi.from_buffer('float[]', A), ffi.from_buffer('float[]', h), ffi.from_buffer('float[]', _Z), eps, max_iter)\n",
    "    Z[:] = _Z.reshape((n,k,m)).transpose(0,2,1).reshape((n,d))\n",
    "    return diff"
   ]
  },
  {
   "cell_type": "code",
   "execution_count": 4,
   "metadata": {},
   "outputs": [],
   "source": [
    "# Generate all (k)^n strings in support of MRF\n",
    "def generate_strings(n, k):\n",
    "    assert k >= 2 and k < 10\n",
    "    if n == 1:\n",
    "        return [str(i) for i in range(k)]\n",
    "    ret = []\n",
    "    all_smaller_strings = generate_strings(n-1, k)\n",
    "    for i in range(k):\n",
    "        ret.extend([str(i) + s for s in all_smaller_strings])\n",
    "    return ret\n",
    "\n",
    "# Convert vector to string\n",
    "def get_string_from_vector(v):\n",
    "    ret = \"\"\n",
    "    for digit in v:\n",
    "        assert digit >=0 and digit < 10\n",
    "        ret += str(digit)\n",
    "    return ret\n",
    "\n",
    "# Sample n vectors uniformly on unit sphere\n",
    "def sample_unit_sphere(n, d):\n",
    "    ret = np.random.normal(0, 1, size=(n, d))\n",
    "    ret = ret / np.linalg.norm(ret, axis=1, keepdims=True)\n",
    "    return ret\n",
    "\n",
    "# Get f = \\sum_{ij}Aij\\delta(i, j)/2 + \\sum_i\\sum_k b_ik\\delta(i, k)\n",
    "def get_f(A, h, s):\n",
    "    k = h.shape[1]\n",
    "    n = A.shape[0]\n",
    "    if type(s) == str:\n",
    "        s = np.array(list(s), dtype=int)\n",
    "    delta = np.zeros((k, n))\n",
    "    delta[s, np.arange(n)] = 1\n",
    "    sm = np.sum((delta.T @ delta) * A) - np.sum(A) / 2\n",
    "    truth = np.eye(k)\n",
    "    sm += 2 * np.sum((delta.T @ truth) * h) - np.sum(h)\n",
    "    return sm"
   ]
  },
  {
   "cell_type": "code",
   "execution_count": 5,
   "metadata": {},
   "outputs": [],
   "source": [
    "# Multiply V by the matrix S efficiently\n",
    "def mul_S(s, V):\n",
    "    d = V.shape[1]\n",
    "    k = s.shape[0]\n",
    "    assert d % k == 0\n",
    "    return (V.reshape(-1, d // k, k) @ s).reshape(V.shape)\n",
    "\n",
    "# Rounding in the multi-class case\n",
    "def obtain_rounded_v(V, B):\n",
    "    n = V.shape[0]\n",
    "    d = V.shape[1]\n",
    "    k = B.shape[0]\n",
    "    r = np.random.normal(0, 1, size=(k, d))\n",
    "    r = r / np.linalg.norm(r, axis=1, keepdims=True)\n",
    "    \n",
    "    rounded_v = np.argmax(V @ r.T, axis=1)\n",
    "    rounded_v_one_hot = np.zeros((n, k))\n",
    "    rounded_v_one_hot[np.arange(n), rounded_v] = 1\n",
    "    \n",
    "    # shape(num_classes): saying that r:i maps to S:j\n",
    "    r_to_B = np.argmax(r @ B.T, axis=1)\n",
    "    transformation_matrix = np.zeros((k, k))\n",
    "    transformation_matrix[np.arange(k), r_to_B] = 1\n",
    "    rounded_v_one_hot = rounded_v_one_hot @ transformation_matrix\n",
    "    rounded_v = np.argmax(rounded_v_one_hot, axis=1)\n",
    "    \n",
    "    return rounded_v"
   ]
  },
  {
   "cell_type": "code",
   "execution_count": 6,
   "metadata": {},
   "outputs": [],
   "source": [
    "# Compute the log-sum-exp of a list safely\n",
    "def LSE(y):\n",
    "    max_y = np.max(y)\n",
    "    return np.log(np.sum(np.exp(np.array(y)-max_y))) + max_y\n",
    "\n",
    "# Routine to compute partition function: Algorithm 4 in paper\n",
    "def compute_logZ_sdp(A, h, rounding_iters=10000, method=\"mixing\"):\n",
    "    n = len(A)\n",
    "    k = h.shape[1]\n",
    "    \n",
    "    if method == \"mixing-plus\":\n",
    "        d = int(np.ceil(k * np.sqrt(2*n) + 1))\n",
    "\n",
    "        while(d % k != 0):\n",
    "            d += 1\n",
    "        assert d >= k\n",
    "\n",
    "        C_hat = (k/(k-1))*np.eye(k) - (1/(k-1))*np.full((k, k), 1)\n",
    "        U, Sigma, Ut = np.linalg.svd(C_hat)\n",
    "        s = (np.diag(Sigma) ** 0.5) @ Ut\n",
    "\n",
    "        Z = np.random.normal(0, 1, size=(n, d))\n",
    "        Z = np.abs(Z)\n",
    "        Z = Z / np.linalg.norm(Z, axis=1, keepdims=True)\n",
    "\n",
    "        B = np.zeros((k, d))\n",
    "        B[np.arange(k), np.arange(k)] = 1\n",
    "\n",
    "        _h = h @ B\n",
    "\n",
    "        Z = np.asarray(Z, order='C')\n",
    "        A = np.asarray(A, order='C')\n",
    "        _h = np.asarray(_h, order='C') \n",
    "\n",
    "        diff = mixing_plus(A, _h, Z, k, max_iter=100, eps=0)\n",
    "\n",
    "        V = mul_S(s.T, Z)\n",
    "        B = mul_S(s.T, B)\n",
    "    elif method == \"mixing\":\n",
    "        d = int(np.ceil(np.sqrt(2*(n+k*(k+1)/2)) + 1))\n",
    "        \n",
    "        V = sample_unit_sphere(n, d)\n",
    "        B = np.zeros((k, d))\n",
    "        B[np.arange(k), np.arange(k)] = 1\n",
    "        r0 = np.sum(B, axis=0) / k\n",
    "        c = np.sqrt((k - 1) / k)\n",
    "        B = (B - r0[np.newaxis, :]) / c\n",
    "        _h = h @ B\n",
    "        V = np.asarray(V, order='C')\n",
    "        A = np.asarray(A, order='C')\n",
    "        _h = np.asarray(_h, order='C')\n",
    "        diff = mixing(A, _h, V)\n",
    "    \n",
    "    sdp_logZ = np.trace(A.T @ (V @ V.T)) / 2  + np.sum((V @ B.T) * h)\n",
    "    \n",
    "    s_list = {}\n",
    "    f_list = []\n",
    "    for _ in range(rounding_iters):\n",
    "        x = obtain_rounded_v(V, B)\n",
    "        f = get_f(A, h, x)\n",
    "        s = get_string_from_vector(x)\n",
    "        if s not in s_list:\n",
    "            s_list[s] = 1\n",
    "            f_list.append(f)\n",
    "\n",
    "    rem = np.log(1-np.exp(np.log(len(f_list))-n*np.log(k)))\n",
    "\n",
    "    y_list = []\n",
    "    while True:\n",
    "        if len(y_list) >= rounding_iters: break\n",
    "        x = np.random.choice(k, n, replace=True)\n",
    "        s = get_string_from_vector(x)\n",
    "        if s in s_list: continue\n",
    "        f = get_f(A, h, x)\n",
    "        log_q = -n * np.log(k) - rem\n",
    "        f_minus_log_q = f - log_q\n",
    "        y_list.append(f_minus_log_q)\n",
    "    sm = LSE(y_list) - np.log(len(y_list))\n",
    "    sm = LSE([sm]+f_list)\n",
    "\n",
    "    rounded_logZ = sm\n",
    "    return sdp_logZ, rounded_logZ"
   ]
  },
  {
   "cell_type": "code",
   "execution_count": 8,
   "metadata": {},
   "outputs": [
    {
     "name": "stdout",
     "output_type": "stream",
     "text": [
      "8 4\n"
     ]
    }
   ],
   "source": [
    "# Load the data\n",
    "coupling_data = np.load(\"../data/4_class_coupling_data.npy\")\n",
    "bias_data = np.load(\"../data/4_class_bias.npy\")\n",
    "logZ_data = np.load(\"../data/4_class_logZ.npy\")\n",
    "cw_len = coupling_data.shape[-2]\n",
    "num_samples = coupling_data.shape[-1]\n",
    "num_classes = bias_data.shape[1]\n",
    "n = coupling_data.shape[0]\n",
    "print(n, num_classes)"
   ]
  },
  {
   "cell_type": "code",
   "execution_count": 11,
   "metadata": {},
   "outputs": [
    {
     "name": "stdout",
     "output_type": "stream",
     "text": [
      "CW = 20  Sample number = 9\r"
     ]
    }
   ],
   "source": [
    "# Run our algorithm for all the problem instances\n",
    "sdp, sdp_r = [], []\n",
    "t_list = []\n",
    "rounding_iters = 5000\n",
    "for i in range(cw_len):\n",
    "    diff_sdp, diff_sdp_r = [], []\n",
    "    for sample in range(10):\n",
    "        print(\"CW =\", i, \" Sample number =\", sample, end=\"\\r\")\n",
    "        A = coupling_data[:, :, i, sample]\n",
    "        h = bias_data[:, :, i, sample]\n",
    "        ground_truth = logZ_data[i, sample]\n",
    "        s = time.time()\n",
    "        sdp_logZ, rounded_logZ = compute_logZ_sdp(A, h, rounding_iters=rounding_iters, method=\"mixing-plus\")\n",
    "        t_list.append(time.time() - s)\n",
    "        diff_sdp.append(np.abs(ground_truth - sdp_logZ))\n",
    "        diff_sdp_r.append(np.abs(ground_truth - rounded_logZ))\n",
    "    sdp.append(np.mean(diff_sdp))\n",
    "    sdp_r.append(np.mean(diff_sdp_r))"
   ]
  },
  {
   "cell_type": "markdown",
   "metadata": {},
   "source": [
    "<h2> AIS"
   ]
  },
  {
   "cell_type": "code",
   "execution_count": 23,
   "metadata": {},
   "outputs": [],
   "source": [
    "# p(x) \\propto \\exp(\\sum_{ij}Aij\\delta(i, j)/2 + \\sum_i\\sum_k b_ik\\delta(i, k))\n",
    "# x is a vector in [0, num_classes-1]^{n}\n",
    "def gibbs_sampling(A, h, x, T, num_cycles=10):\n",
    "    n = len(x)\n",
    "    num_classes = h.shape[1]\n",
    "    for cycle in range(num_cycles):\n",
    "        for i in range(n):\n",
    "            mx = -np.inf\n",
    "            for j in range(num_classes):\n",
    "                x[i] = j\n",
    "                f_j = get_f(A, h, x) / T\n",
    "                mx = max(mx, f_j)\n",
    "                \n",
    "            denominator = 0\n",
    "            for j in range(num_classes):\n",
    "                x[i] = j\n",
    "                denominator += np.exp(get_f(A, h, x) / T - mx)\n",
    "\n",
    "            sm_p = 0\n",
    "            p = np.random.rand()\n",
    "            for j in range(num_classes):\n",
    "                x[i] = j\n",
    "                p_j = np.exp(get_f(A, h, x) / T - mx) / denominator\n",
    "                sm_p += p_j\n",
    "                if p < sm_p:\n",
    "                    break\n",
    "    return x\n",
    "\n",
    "# f_k as defined in appendix\n",
    "def log_f_k(x, k, inv_temps, A, h):\n",
    "    n = len(x)\n",
    "    num_classes = h.shape[1]\n",
    "    weight_on_uniform = (inv_temps[k] - 1) * n * np.log(num_classes)\n",
    "    f = get_f(A, h, x)\n",
    "    weight_on_true = inv_temps[k] * (f)\n",
    "    return weight_on_uniform + weight_on_true\n",
    "\n",
    "# AIS as described in pseudocode in appendix\n",
    "def ais(A, h, num_samples=500, K=100, num_cycles=10):\n",
    "    n = len(A)\n",
    "    num_classes = h.shape[1]\n",
    "    inv_temps = np.linspace(0, 1, K)\n",
    "    sm = 0\n",
    "    log_w_list = []\n",
    "    mx = -np.inf\n",
    "    for i in range(num_samples):  \n",
    "        x = np.random.choice(num_classes, size=n, replace=True)\n",
    "        w = 0\n",
    "        for k in range(1, K):\n",
    "            w = w + log_f_k(x, k, inv_temps, A, h) - log_f_k(x, k-1, inv_temps, A, h)\n",
    "            x = gibbs_sampling(A, h, x, 1 / inv_temps[k], num_cycles=num_cycles)\n",
    "        log_w_list.append(w)\n",
    "        mx = max(mx, w)\n",
    "\n",
    "    log_w_list = [elem - mx for elem in log_w_list]\n",
    "    logZ = mx + np.log(np.sum(np.exp(log_w_list))) - np.log(num_samples)\n",
    "    return logZ"
   ]
  },
  {
   "cell_type": "code",
   "execution_count": 24,
   "metadata": {},
   "outputs": [
    {
     "name": "stdout",
     "output_type": "stream",
     "text": [
      "CW = 20  Sample number = 9\r"
     ]
    }
   ],
   "source": [
    "# Set AIS parameters (K, num_cycles, num_samples_ais)\n",
    "K = 3\n",
    "num_cycles = 1\n",
    "num_samples_ais = 500\n",
    "\n",
    "# Run AIS on all problem instances\n",
    "t_list = []\n",
    "ais_error = []\n",
    "for cw in range(cw_len):\n",
    "    diff_ais = []\n",
    "    for sample in range(num_samples):\n",
    "        print(\"CW =\", cw, \" Sample number =\", sample, end=\"\\r\")\n",
    "        A = coupling_data[:, :, cw, sample]\n",
    "        h = bias_data[:, :, cw, sample]\n",
    "        ground_truth = logZ_data[cw, sample]\n",
    "        s = time.time()\n",
    "        ais_estimate = ais(A, h, num_samples=num_samples_ais, K=K, num_cycles=num_cycles)\n",
    "        t_list.append(time.time() - s)\n",
    "        diff_ais.append(np.abs(ground_truth - ais_estimate))\n",
    "    ais_error.append(np.mean(diff_ais))"
   ]
  },
  {
   "cell_type": "code",
   "execution_count": 25,
   "metadata": {},
   "outputs": [
    {
     "data": {
      "text/plain": [
       "[<matplotlib.lines.Line2D at 0x10f4cda58>]"
      ]
     },
     "execution_count": 25,
     "metadata": {},
     "output_type": "execute_result"
    },
    {
     "data": {
      "image/png": "[encoded data removed]",
      "text/plain": [
       "<Figure size 432x288 with 1 Axes>"
      ]
     },
     "metadata": {
      "needs_background": "light"
     },
     "output_type": "display_data"
    }
   ],
   "source": [
    "plt.plot(sdp_r)\n",
    "plt.plot(ais_error)"
   ]
  }
 ],
 "metadata": {
  "kernelspec": {
   "display_name": "Python 3",
   "language": "python",
   "name": "python3"
  },
  "language_info": {
   "codemirror_mode": {
    "name": "ipython",
    "version": 3
   },
   "file_extension": ".py",
   "mimetype": "text/x-python",
   "name": "python",
   "nbconvert_exporter": "python",
   "pygments_lexer": "ipython3",
   "version": "3.8.5"
  }
 },
 "nbformat": 4,
 "nbformat_minor": 2
}
