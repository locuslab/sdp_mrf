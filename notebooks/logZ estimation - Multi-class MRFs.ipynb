{
 "cells": [
  {
   "cell_type": "code",
   "execution_count": 1,
   "metadata": {},
   "outputs": [],
   "source": [
    "import sys\n",
    "sys.path.insert(0, \"../\")\n",
    "import numpy as np\n",
    "import matplotlib.pyplot as plt\n",
    "import scipy.io as sio\n",
    "import pandas as pd\n",
    "import time\n",
    "import sdp_mrf\n",
    "from sdp_mrf.models import PottsModel"
   ]
  },
  {
   "cell_type": "code",
   "execution_count": 2,
   "metadata": {},
   "outputs": [
    {
     "name": "stdout",
     "output_type": "stream",
     "text": [
      "8 4\n"
     ]
    }
   ],
   "source": [
    "# Load the data\n",
    "coupling_data = np.load(\"../data/4_class_coupling_data.npy\")\n",
    "bias_data = np.load(\"../data/4_class_bias.npy\")\n",
    "logZ_data = np.load(\"../data/4_class_logZ.npy\")\n",
    "cw_len = coupling_data.shape[-2]\n",
    "num = coupling_data.shape[-1]\n",
    "k = bias_data.shape[1]\n",
    "n = coupling_data.shape[0]\n",
    "print(n, k)"
   ]
  },
  {
   "cell_type": "code",
   "execution_count": 4,
   "metadata": {},
   "outputs": [
    {
     "name": "stdout",
     "output_type": "stream",
     "text": [
      "CW = 20  Sample number = 9\r"
     ]
    }
   ],
   "source": [
    "# Run our algorithm for all the problem instances\n",
    "sdp_r = []\n",
    "t_list = []\n",
    "rounding_iters = 5000\n",
    "model = PottsModel()\n",
    "for i in range(cw_len):\n",
    "    diff_sdp_r = []\n",
    "    for sample in range(10):\n",
    "        print(\"CW =\", i, \" Sample number =\", sample, end=\"\\r\")\n",
    "        A = coupling_data[:, :, i, sample]\n",
    "        h = bias_data[:, :, i, sample]\n",
    "        ground_truth = logZ_data[i, sample]\n",
    "        model.set_model_parameters(A, h, k)\n",
    "        s = time.time()\n",
    "        rounded_logZ = model.solve_partition_function(solver='M4', rounding_iters=rounding_iters)\n",
    "        t_list.append(time.time() - s)\n",
    "        diff_sdp_r.append(np.abs(ground_truth - rounded_logZ))\n",
    "    sdp_r.append(np.mean(diff_sdp_r))"
   ]
  },
  {
   "cell_type": "code",
   "execution_count": 6,
   "metadata": {},
   "outputs": [
    {
     "name": "stdout",
     "output_type": "stream",
     "text": [
      "CW = 20  Sample number = 9\r"
     ]
    }
   ],
   "source": [
    "# Set AIS parameters (T, num_cycles, num_samples_ais)\n",
    "T = 3\n",
    "num_cycles = 1\n",
    "num_samples_ais = 500\n",
    "\n",
    "# Run AIS on all problem instances\n",
    "t_list = []\n",
    "ais_error = []\n",
    "for cw in range(cw_len):\n",
    "    diff_ais = []\n",
    "    for sample in range(10):\n",
    "        print(\"CW =\", cw, \" Sample number =\", sample, end=\"\\r\")\n",
    "        A = coupling_data[:, :, cw, sample]\n",
    "        h = bias_data[:, :, cw, sample]\n",
    "        ground_truth = logZ_data[cw, sample]\n",
    "        model.set_model_parameters(A, h, k)\n",
    "        s = time.time()\n",
    "        ais_estimate = model.solve_partition_function(solver='AIS', num_samples=num_samples_ais,\n",
    "                                                      T=T, num_cycles=num_cycles)\n",
    "        t_list.append(time.time() - s)\n",
    "        diff_ais.append(np.abs(ground_truth - ais_estimate))\n",
    "    ais_error.append(np.mean(diff_ais))"
   ]
  },
  {
   "cell_type": "code",
   "execution_count": 7,
   "metadata": {},
   "outputs": [
    {
     "data": {
      "text/plain": [
       "[<matplotlib.lines.Line2D at 0x1117b6a60>]"
      ]
     },
     "execution_count": 7,
     "metadata": {},
     "output_type": "execute_result"
    },
    {
     "data": {
      "image/png": "[encoded data removed]",
      "text/plain": [
       "<Figure size 432x288 with 1 Axes>"
      ]
     },
     "metadata": {
      "needs_background": "light"
     },
     "output_type": "display_data"
    }
   ],
   "source": [
    "plt.plot(sdp_r)\n",
    "plt.plot(ais_error)"
   ]
  }
 ],
 "metadata": {
  "kernelspec": {
   "display_name": "Python 3",
   "language": "python",
   "name": "python3"
  },
  "language_info": {
   "codemirror_mode": {
    "name": "ipython",
    "version": 3
   },
   "file_extension": ".py",
   "mimetype": "text/x-python",
   "name": "python",
   "nbconvert_exporter": "python",
   "pygments_lexer": "ipython3",
   "version": "3.8.5"
  }
 },
 "nbformat": 4,
 "nbformat_minor": 4
}
