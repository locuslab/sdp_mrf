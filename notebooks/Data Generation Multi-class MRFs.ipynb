{
 "cells": [
  {
   "cell_type": "code",
   "execution_count": null,
   "metadata": {},
   "outputs": [],
   "source": [
    "import sys\n",
    "import numpy as np\n",
    "import matplotlib.pyplot as plt\n",
    "import pandas as pd\n",
    "import scipy.io as sio"
   ]
  },
  {
   "cell_type": "code",
   "execution_count": null,
   "metadata": {},
   "outputs": [],
   "source": [
    "# Generate all (num_classes)^n strings in support of MRF\n",
    "def generate_strings(n, num_classes):\n",
    "    assert num_classes >= 2 and num_classes < 10\n",
    "    if n == 1:\n",
    "        return [str(i) for i in range(num_classes)]\n",
    "    ret = []\n",
    "    all_smaller_strings = generate_strings(n-1, num_classes)\n",
    "    for i in range(num_classes):\n",
    "        ret.extend([str(i) + s for s in all_smaller_strings])\n",
    "    return ret\n",
    "\n",
    "# Convert vector to string\n",
    "def get_string_from_vector(v):\n",
    "    ret = \"\"\n",
    "    for digit in v:\n",
    "        assert digit >=0 and digit < 10\n",
    "        ret += str(digit)\n",
    "    return ret\n",
    "\n",
    "# Get f = \\sum_{ij}Aij\\delta(i, j)/2 + \\sum_i\\sum_k b_ik\\delta(i, k)\n",
    "def get_f(A, h, s):\n",
    "    num_classes = h.shape[1]\n",
    "    n = A.shape[0]\n",
    "    if type(s) == str:\n",
    "        s = np.array(list(s), dtype=int)\n",
    "    delta = np.zeros((num_classes, n))\n",
    "    delta[s, np.arange(n)] = 1\n",
    "    sm = np.sum((delta.T @ delta) * A) - np.sum(A) / 2\n",
    "    truth = np.eye(num_classes)\n",
    "    sm += 2 * np.sum((delta.T @ truth) * h) - np.sum(h)\n",
    "    return sm\n",
    "\n",
    "# Get ground truth logZ and mode\n",
    "def ground_truth(A, h, all_strings):\n",
    "    n = len(A)\n",
    "    mx = float(\"-inf\")\n",
    "    num_classes = h.shape[1]\n",
    "    sm_list = []\n",
    "    for s in all_strings:\n",
    "        sm = get_f(A, h, s)    \n",
    "        mx = max(mx, sm)\n",
    "        sm_list.append(sm)\n",
    "    sm_list = [elem - mx for elem in sm_list]\n",
    "    logZ = np.log(np.sum(np.exp(sm_list))) + mx\n",
    "    \n",
    "    return logZ, mx"
   ]
  },
  {
   "cell_type": "code",
   "execution_count": null,
   "metadata": {},
   "outputs": [],
   "source": [
    "# Define MRF parameters\n",
    "cw_range = [0.1,  0.5,  1.,   1.5,  2.,   2.5,  3.,   3.5,  4.,   4.5,  5.,   5.5,  6.,   6.5,\n",
    "7.,   7.5,  8.,   8.5,  9.,   9.5, 10.]\n",
    "cw_len = len(cw_range)\n",
    "num_samples = 100\n",
    "num_classes = 4\n",
    "n = 8\n",
    "# for num_classes = 3, n = 10\n",
    "# for num_classes = 4, n = 8\n",
    "# for num_classes = 5, n = 7"
   ]
  },
  {
   "cell_type": "markdown",
   "metadata": {},
   "source": [
    "<h2> Multi-class MRF complete graph data generation"
   ]
  },
  {
   "cell_type": "code",
   "execution_count": null,
   "metadata": {},
   "outputs": [],
   "source": [
    "coupling_data = np.zeros((n, n, len(cw_range), num_samples))\n",
    "bias_data = np.zeros((n, num_classes, len(cw_range), num_samples))\n",
    "logZ_data = np.zeros((len(cw_range), num_samples))\n",
    "modes_data = np.zeros((len(cw_range), num_samples))\n",
    "all_strings = generate_strings(n, num_classes)\n",
    "for i, cw in enumerate(cw_range):\n",
    "    for sample in range(num_samples):\n",
    "        print(i, sample)\n",
    "        A = np.random.uniform(low=-cw, high=cw, size=(n, n))\n",
    "        for j in range(n):\n",
    "            A[j, j] = 0\n",
    "        A = (A + A.T) / 2\n",
    "        h = np.random.uniform(low=-1, high=1, size=(n, num_classes))\n",
    "        logZ, mode = ground_truth(A, h, all_strings)\n",
    "        coupling_data[:, :, i, sample] = A\n",
    "        bias_data[:, :, i, sample] = h\n",
    "        logZ_data[i, sample] = logZ\n",
    "        modes_data[i, sample] = mode"
   ]
  }
 ],
 "metadata": {
  "kernelspec": {
   "display_name": "Python 3",
   "language": "python",
   "name": "python3"
  },
  "language_info": {
   "codemirror_mode": {
    "name": "ipython",
    "version": 3
   },
   "file_extension": ".py",
   "mimetype": "text/x-python",
   "name": "python",
   "nbconvert_exporter": "python",
   "pygments_lexer": "ipython3",
   "version": "3.8.5"
  }
 },
 "nbformat": 4,
 "nbformat_minor": 2
}
